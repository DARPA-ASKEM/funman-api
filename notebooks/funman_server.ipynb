{
 "cells": [
  {
   "cell_type": "code",
   "execution_count": 1,
   "id": "18ad842e",
   "metadata": {},
   "outputs": [],
   "source": [
    "import asyncio\n",
    "import nest_asyncio\n",
    "import os\n",
    "import json\n",
    "import unittest\n",
    "from pathlib import Path\n",
    "\n",
    "import funman.api.client as client\n",
    "from funman.api.api import app\n",
    "from funman.api.server import Server, ServerConfig\n",
    "\n",
    "API_BASE_PATH = os.path.join(os.getcwd(), \"..\")\n",
    "API_SERVER_HOST = \"0.0.0.0\"\n",
    "API_SERVER_PORT = 8190\n",
    "SERVER_URL = f\"http://{API_SERVER_HOST}:{API_SERVER_PORT}\"\n",
    "OPENAPI_URL = f\"{SERVER_URL}/openapi.json\"\n",
    "CLIENT_NAME = \"funman-api-client\""
   ]
  },
  {
   "cell_type": "code",
   "execution_count": 2,
   "id": "1026004e",
   "metadata": {},
   "outputs": [
    {
     "name": "stderr",
     "output_type": "stream",
     "text": [
      "INFO:     Started server process [2180]\n",
      "INFO:     Waiting for application startup.\n",
      "INFO:     Application startup complete.\n",
      "INFO:     Uvicorn running on http://0.0.0.0:8190 (Press CTRL+C to quit)\n"
     ]
    },
    {
     "name": "stdout",
     "output_type": "stream",
     "text": [
      "FunmanWorker starting...\n"
     ]
    },
    {
     "name": "stdout",
     "output_type": "stream",
     "text": [
      "INFO:     127.0.0.1:37632 - \"GET /openapi.json HTTP/1.1\" 200 OK\n",
      "WARNING: Running without API token\n",
      "Starting work on: a83d0130-2121-497c-a043-6c5fc1e50be7\n",
      "INFO:     127.0.0.1:44910 - \"POST /queries HTTP/1.1\" 200 OK\n",
      "Starting initializing dynamics of model\n",
      "Initialized dynamics of model\n",
      "+++ True(Box({'beta': {'lb': 0.0002603, 'ub': 0.0002803}, 'gamma': {'lb': 0.1, 'ub': 0.18}, 'S0': {'lb': 1000.0, 'ub': 1000.0}, 'I0': {'lb': 1.0, 'ub': 1.0}, 'R0': {'lb': 0.0, 'ub': 0.0}, 'num_steps': {'lb': 1.0, 'ub': 1.0}, 'step_size': {'lb': 1.0, 'ub': 1.0}}), width = 0.07999999999999999)\n",
      "Starting initializing dynamics of model\n",
      "Initialized dynamics of model\n",
      "+++ True(Box({'beta': {'lb': 0.0002603, 'ub': 0.0002803}, 'gamma': {'lb': 0.1, 'ub': 0.18}, 'S0': {'lb': 1000.0, 'ub': 1000.0}, 'I0': {'lb': 1.0, 'ub': 1.0}, 'R0': {'lb': 0.0, 'ub': 0.0}, 'num_steps': {'lb': 2.0, 'ub': 2.0}, 'step_size': {'lb': 1.0, 'ub': 1.0}}), width = 0.07999999999999999)\n",
      "WARNING: Running without API token\n",
      "INFO:     127.0.0.1:44914 - \"GET /queries/a83d0130-2121-497c-a043-6c5fc1e50be7 HTTP/1.1\" 200 OK\n",
      "Starting initializing dynamics of model\n",
      "Initialized dynamics of model\n",
      "+++ True(Box({'beta': {'lb': 0.0002603, 'ub': 0.0002803}, 'gamma': {'lb': 0.1, 'ub': 0.18}, 'S0': {'lb': 1000.0, 'ub': 1000.0}, 'I0': {'lb': 1.0, 'ub': 1.0}, 'R0': {'lb': 0.0, 'ub': 0.0}, 'num_steps': {'lb': 3.0, 'ub': 3.0}, 'step_size': {'lb': 1.0, 'ub': 1.0}}), width = 0.07999999999999999)\n",
      "Starting initializing dynamics of model\n",
      "Initialized dynamics of model\n",
      "--- False(Box({'beta': {'lb': 0.0002603, 'ub': 0.0002803}, 'gamma': {'lb': 0.1, 'ub': 0.18}, 'S0': {'lb': 1000.0, 'ub': 1000.0}, 'I0': {'lb': 1.0, 'ub': 1.0}, 'R0': {'lb': 0.0, 'ub': 0.0}, 'num_steps': {'lb': 4.0, 'ub': 4.0}, 'step_size': {'lb': 1.0, 'ub': 1.0}}), width = 0.07999999999999999)\n",
      "Starting initializing dynamics of model\n",
      "Initialized dynamics of model\n",
      "+++ True(Box({'beta': {'lb': 0.0002603, 'ub': 0.0002803}, 'gamma': {'lb': 0.1, 'ub': 0.18}, 'S0': {'lb': 1000.0, 'ub': 1000.0}, 'I0': {'lb': 1.0, 'ub': 1.0}, 'R0': {'lb': 0.0, 'ub': 0.0}, 'num_steps': {'lb': 5.0, 'ub': 5.0}, 'step_size': {'lb': 1.0, 'ub': 1.0}}), width = 0.07999999999999999)\n",
      "WARNING: Running without API token\n",
      "Halting a83d0130-2121-497c-a043-6c5fc1e50be7\n",
      "INFO:     127.0.0.1:37226 - \"GET /queries/a83d0130-2121-497c-a043-6c5fc1e50be7/halt HTTP/1.1\" 200 OK\n",
      "Starting initializing dynamics of model\n",
      "Initialized dynamics of model\n",
      "Starting initializing dynamics of model\n",
      "Initialized dynamics of model\n",
      "Completed work on: a83d0130-2121-497c-a043-6c5fc1e50be7\n",
      "WARNING: Running without API token\n",
      "INFO:     127.0.0.1:41316 - \"GET /queries/a83d0130-2121-497c-a043-6c5fc1e50be7/halt HTTP/1.1\" 200 OK\n",
      "WARNING: Running without API token\n",
      "INFO:     127.0.0.1:60980 - \"GET /queries/a83d0130-2121-497c-a043-6c5fc1e50be7/halt HTTP/1.1\" 200 OK\n",
      "WARNING: Running without API token\n",
      "Starting work on: 0a3be7cf-ae84-48e9-9d7f-e5f5ec0c624f\n",
      "INFO:     127.0.0.1:57570 - \"POST /queries HTTP/1.1\" 200 OK\n"
     ]
    },
    {
     "name": "stderr",
     "output_type": "stream",
     "text": [
      "Exception in thread Thread-5:\n",
      "Traceback (most recent call last):\n",
      "  File \"/usr/lib/python3.8/threading.py\", line 932, in _bootstrap_inner\n",
      "    self.run()\n",
      "  File \"/usr/lib/python3.8/threading.py\", line 870, in run\n",
      "    self._target(*self._args, **self._kwargs)\n",
      "  File \"/root/funman/src/funman/server/worker.py\", line 128, in _run\n",
      "    result = f.solve(\n",
      "  File \"/root/funman/src/funman/funman.py\", line 119, in solve\n",
      "    return problem.solve(\n",
      "  File \"/root/funman/src/funman/scenario/parameter_synthesis.py\", line 122, in solve\n",
      "    self._smt_encoder = self.model.default_encoder(config, self)\n",
      "TypeError: default_encoder() takes 2 positional arguments but 3 were given\n"
     ]
    },
    {
     "name": "stdout",
     "output_type": "stream",
     "text": [
      "WARNING: Running without API token\n",
      "INFO:     127.0.0.1:57586 - \"GET /queries/0a3be7cf-ae84-48e9-9d7f-e5f5ec0c624f HTTP/1.1\" 200 OK\n",
      "WARNING: Running without API token\n",
      "INFO:     127.0.0.1:56442 - \"GET /queries/0a3be7cf-ae84-48e9-9d7f-e5f5ec0c624f HTTP/1.1\" 200 OK\n",
      "WARNING: Running without API token\n",
      "INFO:     127.0.0.1:56444 - \"GET /queries/0a3be7cf-ae84-48e9-9d7f-e5f5ec0c624f HTTP/1.1\" 200 OK\n",
      "WARNING: Running without API token\n",
      "INFO:     127.0.0.1:56456 - \"GET /queries/0a3be7cf-ae84-48e9-9d7f-e5f5ec0c624f HTTP/1.1\" 200 OK\n",
      "WARNING: Running without API token\n",
      "INFO:     127.0.0.1:56466 - \"GET /queries/0a3be7cf-ae84-48e9-9d7f-e5f5ec0c624f HTTP/1.1\" 200 OK\n"
     ]
    }
   ],
   "source": [
    "# Start API Server\n",
    "server = Server(\n",
    "            config=ServerConfig(\n",
    "                app,\n",
    "                host=API_SERVER_HOST,\n",
    "                port=API_SERVER_PORT,\n",
    "                log_level=\"info\",\n",
    "            )\n",
    "        )\n",
    "nest_asyncio.apply()\n",
    "thread = server.start_in_thread()"
   ]
  },
  {
   "cell_type": "code",
   "execution_count": null,
   "id": "8f8b5e65",
   "metadata": {},
   "outputs": [
    {
     "name": "stderr",
     "output_type": "stream",
     "text": [
      "INFO:     Shutting down\n",
      "INFO:     Waiting for application shutdown.\n",
      "INFO:     Application shutdown complete.\n",
      "INFO:     Finished server process [45298]\n"
     ]
    },
    {
     "name": "stdout",
     "output_type": "stream",
     "text": [
      "FunmanWorker exiting...\n"
     ]
    },
    {
     "name": "stderr",
     "output_type": "stream",
     "text": [
      "Traceback (most recent call last):\n",
      "  File \"/root/funman/src/funman/search/box_search.py\", line 517, in _expand\n",
      "    true_points = self._get_true_points(\n",
      "  File \"/root/funman/src/funman/search/box_search.py\", line 422, in _get_true_points\n",
      "    if solver.solve():\n",
      "  File \"/root/funman_venv/lib/python3.8/site-packages/pysmt/decorators.py\", line 64, in clear_pending_pop_wrap\n",
      "    return f(self, *args, **kwargs)\n",
      "  File \"/root/funman/auxiliary_packages/funman_dreal/src/funman_dreal/solver.py\", line 546, in solve\n",
      "    raise e\n",
      "  File \"/root/funman/auxiliary_packages/funman_dreal/src/funman_dreal/solver.py\", line 544, in solve\n",
      "    ans = self.check_sat()\n",
      "  File \"/root/funman/auxiliary_packages/funman_dreal/src/funman_dreal/solver.py\", line 510, in check_sat\n",
      "    result = self.context.CheckSat()\n",
      "RuntimeError: KeyboardInterrupt(SIGINT) Detected.\n",
      "\n",
      "INFO:     Shutting down\n",
      "INFO:     Waiting for application shutdown.\n"
     ]
    },
    {
     "name": "stdout",
     "output_type": "stream",
     "text": [
      "Completed work on: dfc85de5-7b92-4fe7-88d0-bdd20ffe25a5\n",
      "WARNING: Running without API token\n"
     ]
    },
    {
     "name": "stderr",
     "output_type": "stream",
     "text": [
      "INFO:     Application shutdown complete.\n",
      "INFO:     Finished server process [375281]\n"
     ]
    },
    {
     "name": "stdout",
     "output_type": "stream",
     "text": [
      "FunmanWorker exiting...\n"
     ]
    }
   ],
   "source": [
    "# Close out server\n",
    "server.should_exit = True\n",
    "thread.join()"
   ]
  }
 ],
 "metadata": {
  "kernelspec": {
   "display_name": "Python 3 (ipykernel)",
   "language": "python",
   "name": "python3"
  },
  "language_info": {
   "codemirror_mode": {
    "name": "ipython",
    "version": 3
   },
   "file_extension": ".py",
   "mimetype": "text/x-python",
   "name": "python",
   "nbconvert_exporter": "python",
   "pygments_lexer": "ipython3",
   "version": "3.8.10"
  }
 },
 "nbformat": 4,
 "nbformat_minor": 5
}
