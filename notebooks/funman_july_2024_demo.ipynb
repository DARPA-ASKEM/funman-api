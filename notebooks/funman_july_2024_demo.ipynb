{
 "cells": [
  {
   "cell_type": "code",
   "execution_count": null,
   "metadata": {},
   "outputs": [],
   "source": [
    "# This notebook illustrates handling the July 2024 Demo of the 6mo Hackathon Scenario 2, described at: https://github.com/DARPA-ASKEM/program-milestones/issues/74\n",
    "\n",
    "SAVED_RESULTS_DIR = \"./out\"\n",
    "\n",
    "# Import funman related code\n",
    "import os\n",
    "from funman.api.run import Runner\n",
    "from funman_demo import summarize_results\n",
    "from funman_demo.example.pde import plot_spatial_timeseries\n",
    "from IPython.display import HTML\n",
    "import matplotlib.pyplot as plt\n",
    "import itertools\n",
    "from funman import FunmanWorkRequest, EncodingSchedule, POS_INFINITY\n",
    "\n",
    "import json\n",
    "from funman.representation.constraint import LinearConstraint, ParameterConstraint, StateVariableConstraint\n",
    "from funman.representation import Interval\n",
    "from funman import FUNMANConfig\n",
    "import logging\n",
    "from funman_demo import summarize_results\n",
    "\n",
    "\n",
    "\n",
    "RESOURCES = \"../resources\"\n",
    "\n",
    "EXAMPLE_DIR = os.path.join(RESOURCES, \"amr\", \"petrinet\",\"monthly-demo\", \"2024-07\")\n",
    "MODEL_PATH = os.path.join(\n",
    "    EXAMPLE_DIR, \"SEIRHD_vacc_petrinet.json\"\n",
    ")\n",
    "REQUEST_PATH = os.path.join(\n",
    "    EXAMPLE_DIR, \"SEIRHD_vacc_petrinet_request.json\"\n",
    ")\n",
    "\n",
    "\n",
    "# %load_ext autoreload\n",
    "# %autoreload 2"
   ]
  },
  {
   "cell_type": "code",
   "execution_count": null,
   "metadata": {},
   "outputs": [],
   "source": [
    "# N = \"Total_population\"\n",
    "STATES = [\"S_u\", \"I_u\", \"E_u\", \"S_v\", \"E_v\", \"I_v\", \"H\", \"R\", \"D\"]\n",
    "COMPARTMENTS = STATES\n",
    "MAX_TIME=100\n",
    "STEP_SIZE=4\n",
    "\n",
    "with open(REQUEST_PATH, \"r\") as request:\n",
    "    funman_request = FunmanWorkRequest.model_validate(json.load(request))\n",
    "    funman_request.structure_parameters[0].schedules= []\n",
    "    # for t in range(0, MAX_TIME+STEP_SIZE, STEP_SIZE):\n",
    "    funman_request.structure_parameters[0].schedules.append(EncodingSchedule(timepoints=list(range(0, MAX_TIME+STEP_SIZE, STEP_SIZE))))\n",
    "    \n",
    "    for p in funman_request.parameters:\n",
    "        p.label = \"any\"\n",
    "\n",
    "    # # funman_request.config.substitute_subformulas = True\n",
    "    # funman_request.config.use_transition_symbols = True\n",
    "    # funman_request.config.use_compartmental_constraints=False\n",
    "    # funman_request.config.save_smtlib=\"./out\"\n",
    "    funman_request.config.tolerance = 0.1\n",
    "    #     funman_request.config.verbosity = 10\n",
    "    # funman_request.config.dreal_log_level = \"info\"\n",
    "\n",
    "    to_synthesize = [p.name for p in funman_request.parameters if p.label == \"all\"]\n",
    "    \n",
    "    results_unconstrained_point = Runner().run(\n",
    "            MODEL_PATH,\n",
    "            funman_request,\n",
    "            description=\"SIDARTHE Hackathon 6mo\",\n",
    "            case_out_dir=SAVED_RESULTS_DIR,\n",
    "            dump_plot=True,\n",
    "            print_last_time=True,\n",
    "            parameters_to_plot=to_synthesize\n",
    "    )\n",
    "    summary = summarize_results(COMPARTMENTS, results_unconstrained_point, ylabel=\"Population\", parameters_to_plot=to_synthesize, synthesized_parameters=to_synthesize)\n",
    "    print(summary)"
   ]
  },
  {
   "cell_type": "code",
   "execution_count": null,
   "metadata": {},
   "outputs": [],
   "source": [
    "df = results_unconstrained_point.dataframe(points=results_unconstrained_point.parameter_space.points()[-1:])\n",
    "df[[\"H\"]].plot()\n",
    "# print(df[40:60])\n",
    "# df\n",
    "# results_unconstrained_point.parameter_space.boxes()\n",
    "# results_unconstrained_point.model.to_dot()"
   ]
  },
  {
   "cell_type": "code",
   "execution_count": null,
   "metadata": {},
   "outputs": [],
   "source": [
    "# from funman import FunmanResults\n",
    "# out_file = REQUEST_PATH = os.path.join(\n",
    "#     \"..\", \"out\", \"cbd1bbf2-e053-43a9-a587-d457fb0d577d.json\"\n",
    "# )\n",
    "# with open(out_file, \"r\") as f:\n",
    "#     results = FunmanResults.model_validate(json.load(f))"
   ]
  }
 ],
 "metadata": {
  "kernelspec": {
   "display_name": "funman_venv",
   "language": "python",
   "name": "python3"
  },
  "language_info": {
   "codemirror_mode": {
    "name": "ipython",
    "version": 3
   },
   "file_extension": ".py",
   "mimetype": "text/x-python",
   "name": "python",
   "nbconvert_exporter": "python",
   "pygments_lexer": "ipython3",
   "version": "3.8.10"
  }
 },
 "nbformat": 4,
 "nbformat_minor": 2
}
