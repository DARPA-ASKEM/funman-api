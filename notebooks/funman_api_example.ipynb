{
 "cells": [
  {
   "attachments": {},
   "cell_type": "markdown",
   "id": "9d3ba6dc",
   "metadata": {},
   "source": [
    "# Demo\n",
    "1. Show two json files as the inputs\n",
    "2. Post to terrarium funman api, show response id\n",
    "3. Get result from id, and plot\n",
    "\n",
    "# Todo\n",
    "1. How to interact with terrarium\n",
    "2. Setup API for two json files\n",
    "3. Setup async anytime results\n",
    "4. Truncate/halt request endpoint\n",
    "5. Allow multiple requests in a queue, needs server thread"
   ]
  },
  {
   "attachments": {},
   "cell_type": "markdown",
   "id": "76292192",
   "metadata": {},
   "source": [
    "# Demo Setup"
   ]
  },
  {
   "cell_type": "code",
   "execution_count": null,
   "id": "66470a80",
   "metadata": {},
   "outputs": [],
   "source": [
    "# Common imports\n",
    "import asyncio\n",
    "import nest_asyncio\n",
    "import os\n",
    "import json\n",
    "from pathlib import Path\n",
    "\n",
    "from IPython.display import JSON\n",
    "\n",
    "# Setup URLs\n",
    "API_BASE_PATH = os.path.join(os.getcwd(), \"..\")\n",
    "# Currently assumes a localhost server us running (see funman_server.ipynb)\n",
    "API_SERVER_HOST = \"127.0.0.1\"\n",
    "API_SERVER_PORT = 8190\n",
    "SERVER_URL = f\"http://{API_SERVER_HOST}:{API_SERVER_PORT}\"\n",
    "OPENAPI_URL = f\"{SERVER_URL}/openapi.json\"\n",
    "CLIENT_NAME = \"funman-api-client\"\n",
    "\n",
    "# Setup Paths\n",
    "RESOURCES = Path(\"../resources\").resolve()\n",
    "# example paths\n",
    "EXAMPLE_DIR = RESOURCES / \"funman\" / \"infected_threshold_example\"\n",
    "MODEL_PATH = EXAMPLE_DIR / \"model.json\"\n",
    "REQUEST_PATH = EXAMPLE_DIR / \"request.json\""
   ]
  },
  {
   "cell_type": "code",
   "execution_count": null,
   "id": "9a299787",
   "metadata": {},
   "outputs": [],
   "source": [
    "# Alternative example\n",
    "EXAMPLE_DIR = RESOURCES / \"common_model\" / \"petrinet\"\n",
    "MODEL_PATH = EXAMPLE_DIR / \"sir.json\"\n",
    "REQUEST_PATH = EXAMPLE_DIR / \"request.json\""
   ]
  },
  {
   "cell_type": "code",
   "execution_count": null,
   "id": "59f7e058",
   "metadata": {},
   "outputs": [],
   "source": [
    "# Install API client to the working directory\n",
    "# and add the install to the sys path\n",
    "import funman.api.client as client\n",
    "client.make_client(\n",
    "    API_BASE_PATH, openapi_url=OPENAPI_URL, client_name=CLIENT_NAME\n",
    ")\n",
    "nest_asyncio.apply()"
   ]
  },
  {
   "attachments": {},
   "cell_type": "markdown",
   "id": "116e0094",
   "metadata": {},
   "source": [
    "# Import and initialize the FUNMAN API Client"
   ]
  },
  {
   "cell_type": "code",
   "execution_count": null,
   "id": "4230e571",
   "metadata": {},
   "outputs": [],
   "source": [
    "# Setup API client request\n",
    "from funman_api_client import Client\n",
    "from funman_api_client.api.default import (\n",
    "    post_queries_queries_post,\n",
    "    get_queries_queries_query_id_get,\n",
    ")\n",
    "from funman_api_client.models.body_post_queries_queries_post import BodyPostQueriesQueriesPost\n",
    "from funman_api_client.models import (\n",
    "    BilayerModel,\n",
    "    FUNMANConfig,\n",
    "    LabeledParameter,\n",
    "    QueryLE,\n",
    "    FunmanWorkRequest,\n",
    "    FunmanWorkUnit,\n",
    "    FunmanResults,\n",
    "    QueryTrue,\n",
    "    GeneratedPetriNetModel\n",
    "    \n",
    ")\n",
    "\n",
    "# Create a funman client\n",
    "funman_client = Client(SERVER_URL, timeout=None)"
   ]
  },
  {
   "attachments": {},
   "cell_type": "markdown",
   "id": "68eddacd",
   "metadata": {},
   "source": [
    "# Read in the input files"
   ]
  },
  {
   "cell_type": "code",
   "execution_count": null,
   "id": "7d87eb81",
   "metadata": {},
   "outputs": [],
   "source": [
    "# Read in the model file\n",
    "model = json.loads(MODEL_PATH.read_bytes())\n",
    "# pretty print\n",
    "print(json.dumps(model, indent=2))"
   ]
  },
  {
   "cell_type": "code",
   "execution_count": null,
   "id": "0d5398bf",
   "metadata": {},
   "outputs": [],
   "source": [
    "# Read in the funman request file\n",
    "request = json.loads(REQUEST_PATH.read_bytes())\n",
    "# pretty print\n",
    "print(json.dumps(request, indent=2))"
   ]
  },
  {
   "attachments": {},
   "cell_type": "markdown",
   "id": "1de7759f",
   "metadata": {},
   "source": [
    "# Make a request"
   ]
  },
  {
   "cell_type": "code",
   "execution_count": null,
   "id": "b3f4d4d5",
   "metadata": {},
   "outputs": [],
   "source": [
    "# Make a POST request to the API endpoint\n",
    "response = asyncio.run(\n",
    "    post_queries_queries_post.asyncio_detailed(\n",
    "        client=funman_client,\n",
    "        json_body=BodyPostQueriesQueriesPost.from_dict({\n",
    "            \"model\": model,\n",
    "            \"request\": request\n",
    "        }),\n",
    "    )\n",
    ")\n",
    "\n",
    "# The response returns a work unit\n",
    "work_unit = FunmanWorkUnit.from_dict(\n",
    "    src_dict=json.loads(response.content.decode())\n",
    ")\n",
    "# Where the id can be used to pull ongoing results\n",
    "work_unit.id"
   ]
  },
  {
   "attachments": {},
   "cell_type": "markdown",
   "id": "bed0d43a",
   "metadata": {},
   "source": [
    "# Request results"
   ]
  },
  {
   "cell_type": "code",
   "execution_count": null,
   "id": "4d4136de",
   "metadata": {
    "scrolled": true
   },
   "outputs": [],
   "source": [
    "# Make a GET request to the API endpoint\n",
    "response = asyncio.run(get_queries_queries_query_id_get.asyncio_detailed(\n",
    "    work_unit.id,\n",
    "    client=funman_client\n",
    "))\n",
    "# The response returns the latest funman results for the query\n",
    "results = FunmanResults.from_dict(\n",
    "    src_dict=json.loads(response.content.decode())\n",
    ")\n",
    "# pretty print the parameter_space\n",
    "print(json.dumps(results.parameter_space.to_dict(), indent=2))"
   ]
  },
  {
   "attachments": {},
   "cell_type": "markdown",
   "id": "d82e0513",
   "metadata": {},
   "source": [
    "# Plot"
   ]
  },
  {
   "cell_type": "code",
   "execution_count": null,
   "id": "3c6b47b9",
   "metadata": {},
   "outputs": [],
   "source": [
    "# Plot the ParameterSpace\n",
    "from funman_demo.parameter_space_plotter import ParameterSpacePlotter\n",
    "ParameterSpacePlotter(results.parameter_space).plot(show=True)"
   ]
  },
  {
   "cell_type": "code",
   "execution_count": null,
   "id": "9a48f3c9",
   "metadata": {},
   "outputs": [],
   "source": []
  }
 ],
 "metadata": {
  "kernelspec": {
   "display_name": "Python 3 (ipykernel)",
   "language": "python",
   "name": "python3"
  },
  "language_info": {
   "codemirror_mode": {
    "name": "ipython",
    "version": 3
   },
   "file_extension": ".py",
   "mimetype": "text/x-python",
   "name": "python",
   "nbconvert_exporter": "python",
   "pygments_lexer": "ipython3",
   "version": "3.8.10"
  }
 },
 "nbformat": 4,
 "nbformat_minor": 5
}
