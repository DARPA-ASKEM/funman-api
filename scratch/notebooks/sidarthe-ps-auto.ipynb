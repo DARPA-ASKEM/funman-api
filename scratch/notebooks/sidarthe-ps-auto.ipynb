{
 "cells": [
  {
   "cell_type": "code",
   "execution_count": 306,
   "metadata": {},
   "outputs": [
    {
     "name": "stdout",
     "output_type": "stream",
     "text": [
      "The autoreload extension is already loaded. To reload it, use:\n",
      "  %reload_ext autoreload\n"
     ]
    }
   ],
   "source": [
    "%load_ext autoreload\n",
    "%autoreload 2\n",
    "\n",
    "import scipy\n",
    "from scipy.integrate import odeint\n",
    "import numpy as np\n",
    "import matplotlib.pyplot as plt\n",
    "import random\n",
    "import sir_model\n",
    "import json\n",
    "from random import randint"
   ]
  },
  {
   "cell_type": "code",
   "execution_count": 307,
   "metadata": {},
   "outputs": [],
   "source": [
    "# initialize recording of parameter choices and true/false\n",
    "\n",
    "\n",
    "# USER: set bounds\n",
    "beta_search_bounds = [0,1]\n",
    "gamma_search_bounds = [0,1]\n",
    "\n",
    "# USER: list how many points for each parameter you'd like to synthesize\n",
    "beta_values_to_synthesize = 10\n",
    "gamma_values_to_synthesize = 10\n",
    "\n",
    "# USER: set values for all parameters that you are not synthesizing \n",
    "alpha_val = 0.57\n",
    "delta_val = 0.011\n",
    "\n",
    "epsilon_val = 0.08 \n",
    "theta_val = 0.371\n",
    "\n",
    "zeta_val = 0.125\n",
    "eta_val = 0.125\n",
    "\n",
    "mu_val = 0.017\n",
    "nu_val = 0.027\n",
    "lamb_val = 0.034\n",
    "rho_val = 0.034\n",
    "\n",
    "kappa_val = 0.017\n",
    "xi_val = 0.017\n",
    "sigma_val = 0.017\n",
    "\n",
    "tau_val = 0.01\n",
    "\n",
    "# USER: set initial conditions\n",
    "I0, D0, A0, R0, T0, H0, E0 = 0.01, 0, 0, 0, 0, 0, 0\n",
    "S0 = 1-I0-D0-A0-R0-T0-H0-E0\n",
    "\n",
    "# USER: set simulation parameters\n",
    "dt = 1\n",
    "tstart = 0\n",
    "tend = 100\n",
    "\n",
    "# USER: set parameter synthesis method: \"all\" or \"any\"\n",
    "method = \"any\""
   ]
  },
  {
   "cell_type": "code",
   "execution_count": 308,
   "metadata": {},
   "outputs": [],
   "source": [
    "search_points_beta = np.linspace(beta_search_bounds[0], beta_search_bounds[1], beta_values_to_synthesize)\n",
    "search_points_gamma = np.linspace(gamma_search_bounds[0], gamma_search_bounds[1], gamma_values_to_synthesize)"
   ]
  },
  {
   "cell_type": "code",
   "execution_count": 309,
   "metadata": {},
   "outputs": [],
   "source": [
    "\n",
    "# set parameters\n",
    "def ps(param_synth_method):\n",
    "    param_choices_true_false = []\n",
    "    for i in range(len(search_points_beta)):\n",
    "        beta_val = search_points_beta[i]\n",
    "        for j in range(len(search_points_gamma)):\n",
    "            gamma_val = search_points_gamma[j]\n",
    "\n",
    "            # parameters\n",
    "            # set parameter values\n",
    "            def alpha(t): return np.piecewise(t, [t>=0], [alpha_val])\n",
    "            def beta(t): return np.piecewise(t, [t>=0], [beta_val])\n",
    "            def delta(t): return np.piecewise(t, [t>=0], [delta_val])\n",
    "            def gamma(t): return np.piecewise(t, [t>=0], [gamma_val])\n",
    "\n",
    "            def epsilon(t): return np.piecewise(t, [t>=0], [epsilon_val])\n",
    "            def theta(t): return np.piecewise(t, [t>=0], [theta_val])\n",
    "\n",
    "            def zeta(t): return np.piecewise(t, [t>=0], [zeta_val])\n",
    "            def eta(t): return np.piecewise(t, [t>=0], [eta_val])\n",
    "\n",
    "            def mu(t): return np.piecewise(t, [t>=0], [mu_val])\n",
    "            def nu(t): return np.piecewise(t, [t>=0], [nu_val])\n",
    "            def lamb(t): return np.piecewise(t, [t>=0], [lamb_val])\n",
    "            def rho(t): return np.piecewise(t, [t>=0], [rho_val])\n",
    "\n",
    "            def kappa(t): return np.piecewise(t, [t>=0], [kappa_val])\n",
    "            def xi(t): return np.piecewise(t, [t>=0], [xi_val])\n",
    "            def sigma(t): return np.piecewise(t, [t>=0], [sigma_val])\n",
    "\n",
    "            def tau(t): return np.piecewise(t, [t>=0], [tau_val])\n",
    "\n",
    "            y0 = S0, I0, D0, A0, R0, T0, H0, E0 # Initial conditions vector\n",
    "\n",
    "            tvect = np.arange(tstart, tend, dt)\n",
    "            # simulate/solve ODEs\n",
    "            sim = odeint(sir_model.SIDARTHE_model, y0, tvect, args=(alpha, beta, gamma, delta, epsilon, mu, zeta, lamb, eta, rho, theta, kappa, nu, xi, sigma, tau))\n",
    "            S, I, D, A, R, T, H, E = sim.T\n",
    "\n",
    "\n",
    "            # write query condition.\n",
    "            query_condition = (0.999 <= (S+I+D+A+R+T+H+E).all() <= 1.001)  # compartmental constraint\n",
    "            #query_condition =  (0.32 <= max(I) <= 0.33) and (12 <= np.argmax(I)*dt <= 14) # max location and size\n",
    "            query = '1' if query_condition else '0'\n",
    "            # plot results - uncomment next line to plot time series.  not recommended for large numbers of points\n",
    "            # if query == '1':\n",
    "            #     print('beta:', beta_val, 'gamma:', gamma_val)\n",
    "            #     sir_model.plotSIDARTHE(tvect, S, I, D, A, R, T, H, E)\n",
    "            ## end plot\n",
    "            param_assignments = {'beta': beta_val, 'gamma': gamma_val, 'assignment': query} # for \"all\", go through every option. for \"any\", only need one good parameter choice.\n",
    "            param_choices_true_false.append(param_assignments)\n",
    "            if param_synth_method == \"any\" and query == '1':\n",
    "                return param_choices_true_false\n",
    "    return param_choices_true_false\n",
    "    \n",
    "param_choices_true_false = ps(method)"
   ]
  },
  {
   "cell_type": "code",
   "execution_count": 312,
   "metadata": {},
   "outputs": [],
   "source": [
    "# Save results\n",
    "\n",
    "id_number = randint(10**5, 10**6 - 1)\n",
    "\n",
    "with open(f'sidarthe_query_auto_2_param_{id_number}_{method}.json', 'w', encoding='utf-8') as f:\n",
    "    json.dump(param_choices_true_false, f, ensure_ascii=False, indent=4)"
   ]
  },
  {
   "cell_type": "code",
   "execution_count": 313,
   "metadata": {},
   "outputs": [
    {
     "data": {
      "image/png": "[encoded data removed]",
      "text/plain": [
       "<Figure size 432x288 with 1 Axes>"
      ]
     },
     "metadata": {
      "needs_background": "light"
     },
     "output_type": "display_data"
    }
   ],
   "source": [
    "# Plot \"true/false\" points.  \n",
    "\n",
    "sir_model.plot_two_params(\"beta\", \"gamma\", param_choices_true_false)"
   ]
  },
  {
   "cell_type": "code",
   "execution_count": null,
   "metadata": {},
   "outputs": [],
   "source": []
  },
  {
   "cell_type": "code",
   "execution_count": 305,
   "metadata": {},
   "outputs": [],
   "source": [
    "### For reference: old values\n",
    "\n",
    "# alpha_val = 0.57\n",
    "# beta_val = 0.011\n",
    "# delta_val = 0.011\n",
    "# gamma_val = 0.456\n",
    "\n",
    "# epsilon_val = 0.05 #0.171\n",
    "# theta_val = 0.371\n",
    "\n",
    "# zeta_val = 0.125\n",
    "# eta_val = 0.125\n",
    "\n",
    "# mu_val = 0.017\n",
    "# nu_val = 0.027\n",
    "# lamb_val = 0.034\n",
    "# rho_val = 0.034\n",
    "\n",
    "# kappa_val = 0.017\n",
    "# xi_val = 0.017\n",
    "# sigma_val = 0.017\n",
    "\n",
    "# tau_val = 0.01"
   ]
  },
  {
   "cell_type": "code",
   "execution_count": null,
   "metadata": {},
   "outputs": [],
   "source": []
  },
  {
   "cell_type": "code",
   "execution_count": null,
   "metadata": {},
   "outputs": [],
   "source": []
  }
 ],
 "metadata": {
  "kernelspec": {
   "display_name": "venv",
   "language": "python",
   "name": "venv"
  },
  "language_info": {
   "codemirror_mode": {
    "name": "ipython",
    "version": 3
   },
   "file_extension": ".py",
   "mimetype": "text/x-python",
   "name": "python",
   "nbconvert_exporter": "python",
   "pygments_lexer": "ipython3",
   "version": "3.9.12"
  }
 },
 "nbformat": 4,
 "nbformat_minor": 2
}
